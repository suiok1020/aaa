{
 "cells": [
  {
   "cell_type": "code",
   "execution_count": 1,
   "metadata": {},
   "outputs": [],
   "source": [
    "# coding:utf-8\n",
    "from bs4 import BeautifulSoup as bs \n",
    "from urllib.request import urlopen\n",
    "from urllib.error import HTTPError,URLError\n",
    "import pygal\n",
    "\n",
    "page=[]"
   ]
  },
  {
   "cell_type": "code",
   "execution_count": 2,
   "metadata": {},
   "outputs": [],
   "source": [
    "# 获取到网页，并用beautifulsoup来处理\n",
    "def open_net(net_url):\n",
    "\ttry:\n",
    "\t\thtml=urlopen(net_url)\n",
    "\texcept (HTTPError,URLError) as hu:\n",
    "\t\tprint('出错啦！')\n",
    "\t\treturn None\n",
    "\telse:\n",
    "\t\treturn bs(html,'lxml')\n"
   ]
  },
  {
   "cell_type": "code",
   "execution_count": 3,
   "metadata": {},
   "outputs": [],
   "source": [
    "# 获取数据\n",
    "def get_top_datas(net_url):\n",
    "\ti=0\n",
    "\tscores=get_topMoive_star(net_url)\n",
    "\tbsObj=open_net(net_url)\n",
    "\tmovie_item_infos=bsObj.findAll('div',{'class':'movie-item-info'})\n",
    "\tfor movie_item_info in movie_item_infos:\n",
    "\t\tyield{\n",
    "\t\t'title':movie_item_info.p.a.get_text(),\n",
    "\t\t'href':'http://maoyan.com/'+movie_item_info.p.a.attrs['href'],\n",
    "\t\t'star':scores[i],\n",
    "\t\t'time':movie_item_info.find('p',{'class':'releasetime'}).get_text().replace('上映时间：','')\n",
    "\t\t}\n",
    "\t\ti+=1\n"
   ]
  },
  {
   "cell_type": "code",
   "execution_count": 4,
   "metadata": {},
   "outputs": [],
   "source": [
    "# 获取评分数字\n",
    "def get_topMoive_star(net_url):\n",
    "\tscores=[]\n",
    "\tbsObj=open_net(net_url)\n",
    "\tscore_nums=bsObj.findAll('div',{'class':{'movie-item-number','score-num'}})\n",
    "\tfor score_num in score_nums:\n",
    "\t\tscores.append(score_num.p.get_text())\n",
    "\treturn scores\n"
   ]
  },
  {
   "cell_type": "code",
   "execution_count": 5,
   "metadata": {},
   "outputs": [],
   "source": [
    "# 把数据写进文件中去\n",
    "def create_top_txt(datas,i):\n",
    "\tglobal page\n",
    "\twith open('C://Users//ashley//Desktop//榜单//top'+str(i)+'.txt','w',encoding='utf-8')as f:\n",
    "\t\tfor data in datas:\n",
    "\t\t\tf.write('名称：'+data['title']+',链接：'+data['href']+',评分：'+data['star']+',上映时间：'+str(data['time'])+'\\n')\n",
    "\t\t\tpage.append(data)\n",
    "\tprint('文件'+str(i)+'写入成功！')"
   ]
  },
  {
   "cell_type": "code",
   "execution_count": 6,
   "metadata": {},
   "outputs": [],
   "source": [
    "# 数据可视化\n",
    "def create_plt(datas):\n",
    "\td,s=[],[]\n",
    "\t#配置对象\n",
    "\tconfig=pygal.Config()\n",
    "\t#x轴标签旋转角度\n",
    "\tconfig.x_label_rotation=-45  \n",
    "\t#自定义图表宽度\n",
    "\tconfig.width=1500  \n",
    "\tline_chart=pygal.Line(config)\n",
    "\tline_chart.title='猫眼榜单Top100'\n",
    "\tfor data in datas:\n",
    "\t\td.append(data['title'])\n",
    "\t\ts.append(int(float(data['star'])*10)/10)\n",
    "\tline_chart.x_labels=d\n",
    "\tline_chart.add('评分',s)\n",
    "\tline_chart.render_to_file('猫眼榜单TOP100.svg')\n"
   ]
  },
  {
   "cell_type": "code",
   "execution_count": 7,
   "metadata": {},
   "outputs": [],
   "source": [
    "def main():\n",
    "\ti=0\n",
    "\twhile i<=90:\n",
    "\t\tnet_url='http://maoyan.com/board/4?offset='+str(i);\n",
    "\t\tdatas=get_top_datas(net_url)\n",
    "\t\tcreate_top_txt(datas,i)\n",
    "\t\ti+=10\n",
    "\tcreate_plt(page)"
   ]
  },
  {
   "cell_type": "code",
   "execution_count": 8,
   "metadata": {},
   "outputs": [
    {
     "name": "stdout",
     "output_type": "stream",
     "text": [
      "文件0写入成功！\n",
      "文件10写入成功！\n",
      "文件20写入成功！\n",
      "文件30写入成功！\n",
      "文件40写入成功！\n",
      "文件50写入成功！\n",
      "文件60写入成功！\n",
      "文件70写入成功！\n",
      "文件80写入成功！\n",
      "文件90写入成功！\n"
     ]
    }
   ],
   "source": [
    "main()"
   ]
  },
  {
   "cell_type": "code",
   "execution_count": 11,
   "metadata": {},
   "outputs": [
    {
     "ename": "UnicodeDecodeError",
     "evalue": "'cp950' codec can't decode byte 0xe5 in position 0: illegal multibyte sequence",
     "output_type": "error",
     "traceback": [
      "\u001b[1;31m---------------------------------------------------------------------------\u001b[0m",
      "\u001b[1;31mUnicodeDecodeError\u001b[0m                        Traceback (most recent call last)",
      "\u001b[1;32m<ipython-input-11-2be92c504f86>\u001b[0m in \u001b[0;36m<module>\u001b[1;34m\u001b[0m\n\u001b[0;32m     32\u001b[0m     \u001b[0mfilename\u001b[0m \u001b[1;33m=\u001b[0m \u001b[1;34m\"C://Users//ashley//Desktop//榜单//top0.txt\"\u001b[0m\u001b[1;33m\u001b[0m\u001b[1;33m\u001b[0m\u001b[0m\n\u001b[0;32m     33\u001b[0m     \u001b[0mxlsname\u001b[0m  \u001b[1;33m=\u001b[0m \u001b[1;34m\"C://Users//ashley//Desktop//sum.xls\"\u001b[0m\u001b[1;33m\u001b[0m\u001b[1;33m\u001b[0m\u001b[0m\n\u001b[1;32m---> 34\u001b[1;33m     \u001b[0mtxt_xls\u001b[0m\u001b[1;33m(\u001b[0m\u001b[0mfilename\u001b[0m\u001b[1;33m,\u001b[0m\u001b[0mxlsname\u001b[0m\u001b[1;33m)\u001b[0m\u001b[1;33m\u001b[0m\u001b[1;33m\u001b[0m\u001b[0m\n\u001b[0m",
      "\u001b[1;32m<ipython-input-11-2be92c504f86>\u001b[0m in \u001b[0;36mtxt_xls\u001b[1;34m(filename, xlsname)\u001b[0m\n\u001b[0;32m     18\u001b[0m         \u001b[1;32mwhile\u001b[0m \u001b[1;32mTrue\u001b[0m\u001b[1;33m:\u001b[0m\u001b[1;33m\u001b[0m\u001b[1;33m\u001b[0m\u001b[0m\n\u001b[0;32m     19\u001b[0m             \u001b[1;31m#按行循环，读取文本文件\u001b[0m\u001b[1;33m\u001b[0m\u001b[1;33m\u001b[0m\u001b[1;33m\u001b[0m\u001b[0m\n\u001b[1;32m---> 20\u001b[1;33m             \u001b[0mline\u001b[0m \u001b[1;33m=\u001b[0m \u001b[0mf\u001b[0m\u001b[1;33m.\u001b[0m\u001b[0mreadline\u001b[0m\u001b[1;33m(\u001b[0m\u001b[1;33m)\u001b[0m\u001b[1;33m\u001b[0m\u001b[1;33m\u001b[0m\u001b[0m\n\u001b[0m\u001b[0;32m     21\u001b[0m             \u001b[1;32mif\u001b[0m \u001b[1;32mnot\u001b[0m \u001b[0mline\u001b[0m\u001b[1;33m:\u001b[0m\u001b[1;33m\u001b[0m\u001b[1;33m\u001b[0m\u001b[0m\n\u001b[0;32m     22\u001b[0m                 \u001b[1;32mbreak\u001b[0m  \u001b[1;31m#如果没有内容，则退出循环\u001b[0m\u001b[1;33m\u001b[0m\u001b[1;33m\u001b[0m\u001b[0m\n",
      "\u001b[1;31mUnicodeDecodeError\u001b[0m: 'cp950' codec can't decode byte 0xe5 in position 0: illegal multibyte sequence"
     ]
    }
   ],
   "source": []
  },
  {
   "cell_type": "code",
   "execution_count": 13,
   "metadata": {},
   "outputs": [
    {
     "name": "stdout",
     "output_type": "stream",
     "text": [
      "B000A8UMG2\t中影国际影城(北京昌平永旺店)\t北京市\t北京市\t昌平区\t北清路1号永旺国际商城购物中心3层\t体育休闲服务;影剧院;电影院\t116.288545,40.097514\n",
      "\n",
      "B000A868OG\t大地数字影院(菓岭假日店)\t北京市\t北京市\t昌平区\t昌崔路203号菓岭假日广场4层\t体育休闲服务;影剧院;电影院\t116.265166,40.222146\n",
      "\n",
      "B000AAEZQ7\t首都电影院(昌平店)\t北京市\t北京市\t昌平区\t南环路10号院1号楼悦荟万科广场8层\t体育休闲服务;影剧院;电影院\t116.239817,40.212022\n",
      "\n",
      "B000A9EUCE\t保利国际影城(龙旗广场店)\t北京市\t北京市\t昌平区\t回龙观镇黄平路19号院3号楼龙旗购物中心3层\t体育休闲服务;影剧院;电影院\t116.346575,40.066723\n",
      "\n",
      "B000A806M8\t万达影城(天通苑龙德广场店)\t北京市\t北京市\t昌平区\t立汤路186号龙德广场5层\t体育休闲服务;影剧院;电影院\t116.416166,40.060618\n",
      "\n",
      "B000A8UEV9\t昌平保利影剧院\t北京市\t北京市\t昌平区\t鼓楼南街佳莲时代广场4层\t体育休闲服务;影剧院;电影院\t116.233984,40.223509\n",
      "\n",
      "B0FFFEO847\t沃美影城(BHG Mall北京华联同成街购物中心店)\t北京市\t北京市\t昌平区\t育知东路30号院5号楼BHG Mall北京华联同成街购物中心4层\t体育休闲服务;影剧院;电影院\t116.337826,40.072377\n",
      "\n",
      "B0FFH8WE2P\t海底嘉年华\t北京市\t北京市\t昌平区\t旧西路乐多港·奇幻乐园\t体育休闲服务;影剧院;电影院\t116.191032,40.234531\n",
      "\n",
      "B0FFJIMXFQ\t华联影院(回龙观店)\t北京市\t北京市\t昌平区\t回龙观西大街110-111号BHG Mall北京华联回龙观购物中心3层\t体育休闲服务;影剧院;电影院\t116.319105,40.076189\n",
      "\n",
      "B0FFHS78ZJ\t中影星美国际影城\t北京市\t北京市\t昌平区\t宏福大道温都水城文化广场5层\t体育休闲服务;影剧院;电影院\t116.372076,40.107412\n",
      "\n",
      "B0FFH8UED5\t翱翔紫禁\t北京市\t北京市\t昌平区\t旧西路乐多港·奇幻乐园\t体育休闲服务;影剧院;电影院\t116.190277,40.234897\n",
      "\n"
     ]
    }
   ],
   "source": [
    "import urllib.request\n",
    "import urllib.parse\n",
    "import json\n",
    "import os\n",
    "\n",
    "qqqq=[0,0,0,0,0]               #初始化高德待分析评分医院数据\n",
    "cityList = [\n",
    "    [\"110114\",\"昌平\"]\n",
    "    ]\n",
    "allList = []#设置成全局变量，方便下一段调用，医院\n",
    "def url_open(url):\n",
    "    req = urllib.request.Request(url)\n",
    "    req.add_header('User-Agent','Mozilla/5.0 (Windows NT 6.1) AppleWebKit/537.36 (KHTML, like Gecko) Chrome/38.0.2125.122 Safari/537.36')\n",
    "    response = urllib.request.urlopen(req)\n",
    "    html = response.read().decode('utf-8','ignore')\n",
    "    return html\n",
    "#\n",
    "def get_urlList():\n",
    "    key = \"50e65557c15b15a186100e815fa12662\"\n",
    "    engGS = urllib.parse.quote(\"电影院\")\n",
    "    urlList = []\n",
    "    for city in cityList:\n",
    "        #url = \"http://restapi.amap.com/v3/place/text?key=\"+key+\"&keywords=\"+engGS+\"&types=\"+engGS+\"&city=\"+city[0]+\"&children=1&offset=20&page=1&extensions=all\"\n",
    "        #url = \"http://restapi.amap.com/v3/place/text?key=\"+key+\"&keywords=\"+engGS+\"&types=\"+engGS+\"&city=\"+city[0]+\"&children=1&extensions=all\"\n",
    "        url = \"http://restapi.amap.com/v3/place/text?key=\"+key+\"&keywords=\"+engGS+\"&types=\"+engGS+\"&city=\"+city[0]+\"&children=1&extensions=all\"\n",
    "        urlList.append(url)\n",
    "    return urlList\n",
    " \n",
    "def total_gasStation():\n",
    "    urlList = get_urlList()\n",
    "    i = 0\n",
    "    totalNum = 0\n",
    "    cityListNo = []\n",
    "    for url in urlList:\n",
    "        html = url_open(url)\n",
    "        target = json.loads(html)\n",
    "        gsNo = int(target['count'])\n",
    "        pageNo = divmod(gsNo,20)[0]+1 if divmod(gsNo,20)[1]>0 else divmod(gsNo,20)[0]\n",
    "        cityListNo.append([cityList[i][0],cityList[i][1],gsNo,pageNo])\n",
    "        totalNum = totalNum + gsNo\n",
    "        i = i + 1\n",
    "    return cityListNo\n",
    " \n",
    "def get_GSByCity():\n",
    "    cityListNo = total_gasStation()\n",
    "    key = \"50e65557c15b15a186100e815fa12662\"\n",
    "    engGS = urllib.parse.quote(\"电影院\")\n",
    "    cityUrlList = []\n",
    "    for city in cityListNo:   #1\n",
    "        urlList = []\n",
    "        for i in range(city[3]):\n",
    "            #print(city)\n",
    "            url = \"http://restapi.amap.com/v3/place/text?key=\"+key+\"&keywords=\"+engGS+\"&types=\"+engGS+\"&city=\"+city[0]+\"&children=1&offset=20&page=\"+str(i+1)+\"&extensions=all\"\n",
    "            urlList.append(url)\n",
    "        cityUrlList.append(urlList)\n",
    "    return cityUrlList\n",
    " \n",
    "def get_gsList():\n",
    "    cityUrlList = get_GSByCity()\n",
    "    \n",
    "    global allList#要声明此处列标为全局变量，否则报错\n",
    "    for cityUrl in cityUrlList:\n",
    "        cityPoisList = []\n",
    "        for url in cityUrl:\n",
    "            html = url_open(url)\n",
    "            target = json.loads(html)\n",
    "            pagePoisList = target['pois']\n",
    "            cityPoisList.append(pagePoisList)\n",
    "        cityPoisList = sum(cityPoisList,[])\n",
    "        allList.append(cityPoisList)\n",
    "    allList = sum(allList,[])\n",
    "    ffff = []\n",
    "    #i= 0\n",
    "    for aList in allList:       \n",
    "        try:\n",
    "            #print(aList['id'])\n",
    "            dddd = aList['id']+'\\t'+aList['name']+'\\t'+aList['pname']+'\\t'+aList['cityname']+'\\t'+aList['adname']+'\\t'+aList['address']+'\\t'+aList['type']+'\\t'+aList['location']+'\\n'\n",
    "            \n",
    "        except Exception as e:\n",
    "            continue\n",
    "        else:\n",
    "            ffff.append(dddd)\n",
    "        #i+=1\n",
    "        #print(i)\n",
    "        print(dddd)                                                      #可以找到每一条数据中对应的信息\n",
    "        if aList['name']==\"沙河医院\":#1\n",
    "            #analysis[0]=i\n",
    "            qqqq[0]=aList\n",
    "        elif aList['name']==\"北京市昌平区中医医院\":#8\n",
    "            qqqq[1]=aList\n",
    "        elif aList['name']==\"昌平区医院\":#0\n",
    "            qqqq[2]=aList\n",
    "        elif aList['name']==\"北京市昌平区天通苑中医医院\":#5\n",
    "            qqqq[3]=aList\n",
    "        elif aList['name']==\"昌平博爱医院\":#3\n",
    "            qqqq[4]=aList\n",
    "     \n",
    "if __name__ == '__main__':\n",
    "    get_gsList()\n",
    "#print(qqqq)"
   ]
  },
  {
   "cell_type": "code",
   "execution_count": 14,
   "metadata": {},
   "outputs": [],
   "source": [
    "from math import radians, cos, sin, asin, sqrt\n",
    "\n",
    "quantity=len(allList)\n",
    "\n",
    "#print(quantity)\n",
    "#disall2=[]\n",
    "#计算两点间距离-m\n",
    "def geodistance(lng1,lat1,lng2,lat2):\n",
    "    lng1, lat1, lng2, lat2 = map(radians, [lng1, lat1, lng2, lat2])\n",
    "    dlon=lng2-lng1\n",
    "    dlat=lat2-lat1\n",
    "    a=sin(dlat/2)**2 + cos(lat1) * cos(lat2) * sin(dlon/2)**2 \n",
    "    dis=2*asin(sqrt(a))*6371*1000\n",
    "    return dis\n",
    "\n",
    "def solve(lng0,lat0,List):\n",
    "    nearest=[0,0,0,0]\n",
    "    #distance=[]\n",
    "    for aList in List:\n",
    "        num=0\n",
    "        for i in aList['location']:\n",
    "            if i==\",\":\n",
    "                break\n",
    "            num+=1#区分位置中的经纬度\n",
    "        lng=aList['location'][0:num]#经度\n",
    "        lat=aList['location'][num+1:num+11]#纬度\n",
    "\n",
    "        dis=geodistance(float(lng0),float(lat0),float(lng),float(lat))/1000\n",
    "        dis=(\"%.2f\" % dis) #保留小数点后几位\n",
    "   \n",
    "        if dis<\"0.3\":\n",
    "            nearest[0]=1\n",
    "            break\n",
    "        elif dis<\"1\":\n",
    "            nearest[1]=1\n",
    "        elif dis<\"1.5\":\n",
    "            nearest[2]=1\n",
    "        else:\n",
    "            nearest[3]=1\n",
    "    return nearest\n",
    "\n",
    "def loop(List):\n",
    "    Station=[]\n",
    "    for aList in allList:\n",
    "        num =0\n",
    "        for i in aList['location']:\n",
    "            if i==\",\":\n",
    "                break\n",
    "            num+=1#区分位置中的经纬度\n",
    "        #print(num)\n",
    "        lng0=aList['location'][0:num]#经度\n",
    "        lat0=aList['location'][num+1:num+11]#纬度\n",
    "        Station.append(solve(lng0,lat0,List))\n",
    "    #print(Station)\n",
    "    return Station"
   ]
  },
  {
   "cell_type": "code",
   "execution_count": 15,
   "metadata": {},
   "outputs": [],
   "source": [
    "import matplotlib.pyplot as plt\n",
    "\n",
    "from pylab import mpl#字体\n",
    "#设置字体\n",
    "mpl.rcParams['font.sans-serif'] = ['SimHei'] \n",
    "\n",
    "def autolabel(rects):\n",
    "    for rect in rects:\n",
    "        height = rect.get_height()\n",
    "        plt.text(rect.get_x()+0.1, 1.03*height, '%s' % int(height))"
   ]
  },
  {
   "cell_type": "code",
   "execution_count": 20,
   "metadata": {},
   "outputs": [],
   "source": [
    "#import matplotlib.pyplot as plt\n",
    "def draw(llist,title):#画柱状图\n",
    "    #print(llist)\n",
    "    count =[0,0,0,0]\n",
    "    for i in range(len(allList)):\n",
    "        if llist[i][0]!=0:\n",
    "            count[0]+=1\n",
    "        elif llist[i][1]!=0:\n",
    "            count[1]+=1\n",
    "        elif llist[i][2]!=0:\n",
    "            count[2]+=1\n",
    "        else:\n",
    "            count[3]+=1\n",
    "    print(count)\n",
    "    \n",
    "    import matplotlib.pyplot as plt \n",
    "\n",
    "    from pylab import mpl#字体\n",
    "    #设置字体\n",
    "    mpl.rcParams['font.sans-serif'] = ['SimHei'] \n",
    "\n",
    "        \n",
    "    plt.title(\"昌平区\"+title+\"建设情况\")\n",
    "    name_list = ['', '', '', '']\n",
    "    #number=[dis1,dis2,dis3,dis4]\n",
    "    plt.xlabel(\"\")\n",
    "    plt.ylabel(\"数量\")\n",
    "\n",
    "    plt.xticks((0,1,2,3),('', '', '',''))\n",
    "\n",
    "    #plt.bar(x = (0,1,2,3),height = distance,width = 0.35,align=\"center\")\n",
    "\n",
    "    rect = plt.bar(x = (0,1,2,3),height = count,width = 0.35,align=\"center\")\n",
    "    rect = plt.bar(x = (0,1,2,3),height = count,width = 0.35,align=\"center\")\n",
    "    autolabel(rect)\n",
    "\n",
    "    plt.show()\n",
    "    #print(count)\n",
    "    return count\n",
    "    "
   ]
  },
  {
   "cell_type": "code",
   "execution_count": 21,
   "metadata": {},
   "outputs": [
    {
     "name": "stdout",
     "output_type": "stream",
     "text": [
      "[11, 0, 0, 0]\n"
     ]
    },
    {
     "data": {
      "image/png": "[encoded data removed]",
      "text/plain": [
       "<Figure size 432x288 with 1 Axes>"
      ]
     },
     "metadata": {
      "needs_background": "light"
     },
     "output_type": "display_data"
    }
   ],
   "source": [
    "Station=loop(allList)\n",
    "#print(Station)\n",
    "station=draw(Station,\"电影院\")\n"
   ]
  },
  {
   "cell_type": "code",
   "execution_count": null,
   "metadata": {},
   "outputs": [],
   "source": []
  }
 ],
 "metadata": {
  "kernelspec": {
   "display_name": "Python 3",
   "language": "python",
   "name": "python3"
  },
  "language_info": {
   "codemirror_mode": {
    "name": "ipython",
    "version": 3
   },
   "file_extension": ".py",
   "mimetype": "text/x-python",
   "name": "python",
   "nbconvert_exporter": "python",
   "pygments_lexer": "ipython3",
   "version": "3.7.1"
  }
 },
 "nbformat": 4,
 "nbformat_minor": 2
}
